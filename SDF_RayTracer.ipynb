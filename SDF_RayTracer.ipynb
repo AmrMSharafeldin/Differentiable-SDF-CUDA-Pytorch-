{
  "nbformat": 4,
  "nbformat_minor": 0,
  "metadata": {
    "colab": {
      "provenance": []
    },
    "kernelspec": {
      "name": "python3",
      "display_name": "Python 3"
    },
    "language_info": {
      "name": "python"
    }
  },
  "cells": [
    {
      "cell_type": "markdown",
      "source": [],
      "metadata": {
        "id": "WdZRpUKeHIip"
      }
    },
    {
      "cell_type": "markdown",
      "source": [
        "# **Imports**"
      ],
      "metadata": {
        "id": "PAo0EcyPLUn8"
      }
    },
    {
      "cell_type": "code",
      "source": [
        "import torch\n",
        "import numpy as np\n",
        "import matplotlib.pyplot as plt\n"
      ],
      "metadata": {
        "id": "SKP4ORSQLSGS"
      },
      "execution_count": 3,
      "outputs": []
    },
    {
      "cell_type": "markdown",
      "source": [
        "# **SDF Functions**"
      ],
      "metadata": {
        "id": "19bhwKTMHJe_"
      }
    },
    {
      "cell_type": "code",
      "source": [
        "# Signed distance function (SDF) for a sphere\n",
        "def sphere(r):\n",
        "    def sdf(p):\n",
        "        length_p = torch.norm(p, dim=-1)\n",
        "        d = length_p - r\n",
        "        return d\n",
        "    return sdf\n"
      ],
      "metadata": {
        "id": "-_Jp1SoGLXMc"
      },
      "execution_count": 4,
      "outputs": []
    },
    {
      "cell_type": "markdown",
      "source": [
        "**Neural SDF**"
      ],
      "metadata": {
        "id": "EL2_Z2dkMvhg"
      }
    },
    {
      "cell_type": "code",
      "source": [
        "import torch\n",
        "import torch.nn as nn\n",
        "import numpy as np\n",
        "class ImplicitNetwork(nn.Module):\n",
        "    def __init__(\n",
        "            self,\n",
        "            feature_vector_size,\n",
        "            d_in,\n",
        "            d_out,\n",
        "            dims,\n",
        "            geometric_init=True,\n",
        "            bias=1.0,\n",
        "            skip_in=(),\n",
        "            weight_norm=True,\n",
        "            multires=0\n",
        "    ):\n",
        "        super().__init__()\n",
        "\n",
        "        self.feature_vector_size = feature_vector_size\n",
        "        dims = [d_in] + dims + [d_out + feature_vector_size]\n",
        "\n",
        "        self.embed_fn = None\n",
        "        if multires > 0:\n",
        "            # Assuming get_embedder is defined elsewhere\n",
        "            embed_fn, input_ch = get_embedder(multires)\n",
        "            self.embed_fn = embed_fn\n",
        "            dims[0] = input_ch\n",
        "\n",
        "        self.num_layers = len(dims)\n",
        "        self.skip_in = skip_in\n",
        "\n",
        "        for l in range(0, self.num_layers - 1):\n",
        "            if l + 1 in self.skip_in:\n",
        "                out_dim = dims[l + 1] - dims[0]\n",
        "            else:\n",
        "                out_dim = dims[l + 1]\n",
        "\n",
        "            lin = nn.Linear(dims[l], out_dim)\n",
        "\n",
        "            if geometric_init:\n",
        "                if l == self.num_layers - 2:\n",
        "                    torch.nn.init.normal_(lin.weight, mean=np.sqrt(np.pi) / np.sqrt(dims[l]), std=0.0001)\n",
        "                    torch.nn.init.constant_(lin.bias, -bias)\n",
        "                elif multires > 0 and l == 0:\n",
        "                    torch.nn.init.constant_(lin.bias, 0.0)\n",
        "                    torch.nn.init.constant_(lin.weight[:, 3:], 0.0)\n",
        "                    torch.nn.init.normal_(lin.weight[:, :3], 0.0, np.sqrt(2) / np.sqrt(out_dim))\n",
        "                elif multires > 0 and l in self.skip_in:\n",
        "                    torch.nn.init.constant_(lin.bias, 0.0)\n",
        "                    torch.nn.init.normal_(lin.weight, 0.0, np.sqrt(2) / np.sqrt(out_dim))\n",
        "                    torch.nn.init.constant_(lin.weight[:, -(dims[0] - 3):], 0.0)\n",
        "                else:\n",
        "                    torch.nn.init.constant_(lin.bias, 0.0)\n",
        "                    torch.nn.init.normal_(lin.weight, 0.0, np.sqrt(2) / np.sqrt(out_dim))\n",
        "\n",
        "            if weight_norm:\n",
        "                lin = nn.utils.weight_norm(lin)\n",
        "\n",
        "            setattr(self, \"lin\" + str(l), lin)\n",
        "\n",
        "        self.softplus = nn.Softplus(beta=100)\n",
        "\n",
        "    def forward(self, input, compute_grad=False):\n",
        "        if self.embed_fn is not None:\n",
        "            input = self.embed_fn(input)\n",
        "\n",
        "        x = input\n",
        "\n",
        "        for l in range(0, self.num_layers - 1):\n",
        "            lin = getattr(self, \"lin\" + str(l))\n",
        "\n",
        "            if l in self.skip_in:\n",
        "                x = torch.cat([x, input], 1) / np.sqrt(2)\n",
        "\n",
        "            x = lin(x)\n",
        "\n",
        "            if l < self.num_layers - 2:\n",
        "                x = self.softplus(x)\n",
        "        return x\n",
        "\n",
        "    def gradient(self, x):\n",
        "        x.requires_grad_(True)\n",
        "        y = self.forward(x)[:, :1]\n",
        "        d_output = torch.ones_like(y, requires_grad=False, device=y.device)\n",
        "        gradients = torch.autograd.grad(\n",
        "            outputs=y,\n",
        "            inputs=x,\n",
        "            grad_outputs=d_output,\n",
        "            create_graph=True,\n",
        "            retain_graph=True,\n",
        "            only_inputs=True)[0]\n",
        "        return gradients.unsqueeze(1)"
      ],
      "metadata": {
        "id": "qgmBbGkmMu-m"
      },
      "execution_count": 5,
      "outputs": []
    },
    {
      "cell_type": "code",
      "source": [
        "import torch\n",
        "import torch.nn as nn\n",
        "import torch.nn.functional as F\n",
        "\n",
        "feature_vector_size = 0\n",
        "d_in = 3\n",
        "d_out = 1\n",
        "dims = [32]\n",
        "\n",
        "net = ImplicitNetwork(feature_vector_size, d_in, d_out, dims)\n",
        "print(net.parameters)\n",
        "# Define the sphere function using the SDFNet\n",
        "def custom_sdf(r):\n",
        "    def sdf(p):\n",
        "        return net(p)  # Adjust the signed distance calculation\n",
        "    return sdf"
      ],
      "metadata": {
        "colab": {
          "base_uri": "https://localhost:8080/"
        },
        "id": "E0IEIjN-NBi8",
        "outputId": "bb38fc90-f17a-41f5-ddc0-daa98502c8b6"
      },
      "execution_count": 6,
      "outputs": [
        {
          "output_type": "stream",
          "name": "stdout",
          "text": [
            "<bound method Module.parameters of ImplicitNetwork(\n",
            "  (lin0): Linear(in_features=3, out_features=32, bias=True)\n",
            "  (lin1): Linear(in_features=32, out_features=1, bias=True)\n",
            "  (softplus): Softplus(beta=100, threshold=20.0)\n",
            ")>\n"
          ]
        },
        {
          "output_type": "stream",
          "name": "stderr",
          "text": [
            "/usr/local/lib/python3.10/dist-packages/torch/nn/utils/weight_norm.py:134: FutureWarning: `torch.nn.utils.weight_norm` is deprecated in favor of `torch.nn.utils.parametrizations.weight_norm`.\n",
            "  WeightNorm.apply(module, name, dim)\n"
          ]
        }
      ]
    },
    {
      "cell_type": "markdown",
      "source": [
        "# **Ray Marcher**"
      ],
      "metadata": {
        "id": "w0uiBteFIjY2"
      }
    },
    {
      "cell_type": "code",
      "source": [
        "import torch\n",
        "\n",
        "class SphereTracing(torch.autograd.Function):\n",
        "\n",
        "    def forward(\n",
        "        self,\n",
        "        sdf_func,\n",
        "        ray_start,\n",
        "        ray_dir,\n",
        "        max_steps,\n",
        "        epsilon,\n",
        "        active_mask=None,\n",
        "        bounding_sphere=None,\n",
        "        *params,\n",
        "    ):\n",
        "        if active_mask is None:\n",
        "            active_mask = torch.all(torch.isfinite(ray_start), dim=-1, keepdim=True)\n",
        "\n",
        "        if bounding_sphere:\n",
        "            a = torch.sum(ray_dir * ray_dir, dim=-1, keepdim=True)\n",
        "            b = 2 * torch.sum(ray_dir * ray_start, dim=-1, keepdim=True)\n",
        "            c = torch.sum(ray_start * ray_start, dim=-1, keepdim=True) - bounding_sphere ** 2\n",
        "            discriminant = b ** 2 - 4 * a * c\n",
        "            t_sphere = (-b - torch.sqrt(discriminant)) / (2 * a)\n",
        "            within_sphere = discriminant >= 0\n",
        "            ray_start = torch.where(within_sphere, ray_start + ray_dir * t_sphere, ray_start)\n",
        "            active_mask = active_mask & within_sphere\n",
        "\n",
        "        with torch.no_grad():\n",
        "            for i in range(max_steps):\n",
        "                distances = sdf_func(ray_start)\n",
        "                distances = distances.unsqueeze(-1)\n",
        "\n",
        "                if i > 0:\n",
        "                    ray_start = torch.where(active_mask & ~done_mask, ray_start + ray_dir * distances, ray_start)\n",
        "                else:\n",
        "                    ray_start = torch.where(active_mask, ray_start + ray_dir * distances, ray_start)\n",
        "\n",
        "                if bounding_sphere:\n",
        "                    inside_bounds = torch.norm(ray_start, dim=-1, keepdim=True) < bounding_sphere\n",
        "                    active_mask = active_mask & inside_bounds\n",
        "\n",
        "                done_mask = torch.abs(distances) < epsilon\n",
        "                if torch.all(~active_mask | done_mask):\n",
        "                    break\n",
        "\n",
        "        return ray_start, done_mask\n"
      ],
      "metadata": {
        "id": "icFiOixOLe_N"
      },
      "execution_count": 7,
      "outputs": []
    },
    {
      "cell_type": "markdown",
      "source": [
        "# **Render**"
      ],
      "metadata": {
        "id": "7bva90CcMEiE"
      }
    },
    {
      "cell_type": "code",
      "source": [
        "# Sphere tracing function using the provided signature\n",
        "def sphere_tracing(sdf, ray_pos, ray_dir, n_iter, conv_thresh, fg_masks=None, bound_radius=None):\n",
        "    return SphereTracing.apply(sdf, ray_pos, ray_dir, n_iter, conv_thresh, fg_masks, bound_radius)\n"
      ],
      "metadata": {
        "id": "1FcZc_ByMJKp"
      },
      "execution_count": 8,
      "outputs": []
    },
    {
      "cell_type": "code",
      "source": [
        "# Render a 2D image using sphere tracing\n",
        "def render_image(sdf, img_size, fov, sphere_radius, num_iterations=100, convergence_threshold=1e-3):\n",
        "    aspect_ratio = img_size[1] / img_size[0]\n",
        "    pixel_coords = torch.stack(torch.meshgrid(\n",
        "        torch.linspace(-1, 1, img_size[0]),\n",
        "        torch.linspace(-aspect_ratio, aspect_ratio, img_size[1])\n",
        "    ), dim=-1).reshape(-1, 2)\n",
        "\n",
        "    # Ray origin and direction\n",
        "    ray_origin = torch.tensor([0, 0, -5.0])  # Camera position\n",
        "    fov_tensor = torch.tensor(fov)  # Convert FOV to tensor\n",
        "    ray_directions = torch.cat([pixel_coords, torch.ones(len(pixel_coords), 1) * (1.0 / torch.tan(fov_tensor / 2))], dim=-1)\n",
        "    ray_directions = ray_directions / torch.norm(ray_directions, dim=-1, keepdim=True)\n",
        "\n",
        "    # Perform sphere tracing using the SphereTracing class\n",
        "    traced_points, _ = sphere_tracing(sdf, ray_origin, ray_directions, num_iterations, convergence_threshold)\n",
        "\n",
        "    # Convert traced points to an image (distance to the camera)\n",
        "    distances = torch.norm(traced_points - ray_origin, dim=-1).reshape(img_size[0], img_size[1]).detach().numpy()\n",
        "\n",
        "    return distances\n"
      ],
      "metadata": {
        "id": "luyM3p--MK4B"
      },
      "execution_count": 9,
      "outputs": []
    },
    {
      "cell_type": "code",
      "source": [
        "# Parameters\n",
        "sphere_radius = 1.0\n",
        "img_size = (256, 256)\n",
        "fov = torch.pi / 3  # 60 degree field of view\n",
        "\n",
        "# Create the sphere SDF\n",
        "sdf = sphere(sphere_radius)\n",
        "\n",
        "# Render the image\n",
        "image = render_image(sdf, img_size, fov, sphere_radius)\n",
        "\n",
        "# Display the result\n",
        "plt.imshow(image, cmap='gray')\n",
        "plt.title('Sphere Tracing Result')\n",
        "plt.axis('off')\n",
        "plt.show()\n"
      ],
      "metadata": {
        "colab": {
          "base_uri": "https://localhost:8080/",
          "height": 483
        },
        "id": "aSobp8_wMNj0",
        "outputId": "820982b5-c841-4cff-e90d-df01dec5232c"
      },
      "execution_count": 10,
      "outputs": [
        {
          "output_type": "stream",
          "name": "stderr",
          "text": [
            "/usr/local/lib/python3.10/dist-packages/torch/functional.py:513: UserWarning: torch.meshgrid: in an upcoming release, it will be required to pass the indexing argument. (Triggered internally at ../aten/src/ATen/native/TensorShape.cpp:3609.)\n",
            "  return _VF.meshgrid(tensors, **kwargs)  # type: ignore[attr-defined]\n"
          ]
        },
        {
          "output_type": "display_data",
          "data": {
            "text/plain": [
              "<Figure size 640x480 with 1 Axes>"
            ],
            "image/png": "[encoded data removed]"
          },
          "metadata": {}
        }
      ]
    }
  ]
}